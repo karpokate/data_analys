{
 "cells": [
  {
   "cell_type": "markdown",
   "metadata": {},
   "source": [
    "# МЕТОДИ ВИДОБУВАННЯ АСОЦІАТИВНИХ ПРАВИЛ З ВЕЛИКИХ МАСИВІВ ДАНИХ"
   ]
  },
  {
   "cell_type": "markdown",
   "metadata": {},
   "source": [
    "1. Ознайомитися з конспектом лекцій та рекомендованою літературою за темою роботи, а також з додатком А, що містить опис програмного забезпечення для видобування асоціативних правил з великих масивів даних.\n",
    "2. Сформувати набір даних для обробки та аналізу.\n",
    "3. Розробити за допомогою середовища Matlab програмне забезпечення для видобування асоціативних правил з великих масивів даних або вивчити рекомендоване програмне забезпечення (пакет Armada модулю Matlab) та здійснити обробку набору даних з метою виділення асоціативних\n",
    "правил."
   ]
  },
  {
   "cell_type": "code",
   "execution_count": 13,
   "metadata": {},
   "outputs": [],
   "source": [
    "import pandas as pd\n",
    "import matplotlib.pyplot as plt\n",
    "# https://www.kaggle.com/residentmario/iowa-liquor-sales"
   ]
  },
  {
   "cell_type": "code",
   "execution_count": 4,
   "metadata": {},
   "outputs": [],
   "source": [
    "# для аналииза выберем действительно большой датасет (iowa_ from google bigquery public data)\n",
    "df = pd.read_csv('complete_iowa_df.csv',low_memory=False)"
   ]
  },
  {
   "cell_type": "code",
   "execution_count": 6,
   "metadata": {},
   "outputs": [
    {
     "name": "stdout",
     "output_type": "stream",
     "text": [
      "<class 'pandas.core.frame.DataFrame'>\n",
      "RangeIndex: 5089270 entries, 0 to 5089269\n",
      "Data columns (total 25 columns):\n",
      "Unnamed: 0                 int64\n",
      "invoice_and_item_number    object\n",
      "date                       object\n",
      "store_number               int64\n",
      "store_name                 object\n",
      "address                    object\n",
      "city                       object\n",
      "zip_code                   object\n",
      "store_location             object\n",
      "county_number              float64\n",
      "county                     object\n",
      "category                   float64\n",
      "category_name              object\n",
      "vendor_number              float64\n",
      "vendor_name                object\n",
      "item_number                float64\n",
      "item_description           object\n",
      "pack                       float64\n",
      "bottle_volume_ml           float64\n",
      "state_bottle_cost          float64\n",
      "state_bottle_retail        float64\n",
      "bottles_sold               float64\n",
      "sale_dollars               float64\n",
      "volume_sold_liters         float64\n",
      "volume_sold_gallons        float64\n",
      "dtypes: float64(12), int64(2), object(11)\n",
      "memory usage: 970.7+ MB\n"
     ]
    }
   ],
   "source": [
    "df.info()"
   ]
  },
  {
   "cell_type": "code",
   "execution_count": 17,
   "metadata": {},
   "outputs": [
    {
     "data": {
      "text/plain": [
       "<matplotlib.axes._subplots.AxesSubplot at 0x7fe227664b90>"
      ]
     },
     "execution_count": 17,
     "metadata": {},
     "output_type": "execute_result"
    },
    {
     "data": {
      "image/png": "[encoded data removed]",
      "text/plain": [
       "<Figure size 432x288 with 1 Axes>"
      ]
     },
     "metadata": {
      "needs_background": "light"
     },
     "output_type": "display_data"
    }
   ],
   "source": [
    "df['category_name'].value_counts().nlargest(10).plot.bar()"
   ]
  },
  {
   "cell_type": "code",
   "execution_count": null,
   "metadata": {},
   "outputs": [],
   "source": []
  }
 ],
 "metadata": {
  "kernelspec": {
   "display_name": "Python 3",
   "language": "python",
   "name": "python3"
  },
  "language_info": {
   "codemirror_mode": {
    "name": "ipython",
    "version": 3
   },
   "file_extension": ".py",
   "mimetype": "text/x-python",
   "name": "python",
   "nbconvert_exporter": "python",
   "pygments_lexer": "ipython3",
   "version": "3.7.4"
  }
 },
 "nbformat": 4,
 "nbformat_minor": 2
}
