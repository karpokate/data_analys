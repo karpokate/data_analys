{
 "cells": [
  {
   "cell_type": "markdown",
   "metadata": {},
   "source": [
    "# НЕІЄРАРХІЧНІ МЕТОДИ КЛАСТЕРНОГО АНАЛІЗУ"
   ]
  },
  {
   "cell_type": "markdown",
   "metadata": {},
   "source": [
    "3. Завантажити дані відповідно до вашого варіанту (табл. 5.1). Побудувати графічне зображення експериментальних даних (диаграму розсіювання). Візуально оцінити кількість\n",
    "кластерів k за побудованим зображенням.\n",
    "4. Розробити алгоритм кластерізації k-середніх і програмно його\n",
    "реалізувати в середовищі MATLAB.\n",
    "5. Виконати кластерний аналіз висхідних даних методом k-\n",
    "середніх (параметри методу див. в табл. Е.1). Визначити\n",
    "найбільш оптимальну кількість кластерів k.\n",
    "6. Розрахувати центри отриманих кластерів. Відобразити\n",
    "графічно знайдені кластери (використати диаграму\n",
    "розсіювання у кольорі)."
   ]
  },
  {
   "cell_type": "markdown",
   "metadata": {},
   "source": [
    "Вариант 4 \n",
    "Метрика (расстояние)- Евклидова \n",
    "функционал качества кластеризации -Q1\n",
    "данные - data4.txt"
   ]
  },
  {
   "cell_type": "code",
   "execution_count": null,
   "metadata": {},
   "outputs": [],
   "source": []
  }
 ],
 "metadata": {
  "kernelspec": {
   "display_name": "Python 3",
   "language": "python",
   "name": "python3"
  },
  "language_info": {
   "codemirror_mode": {
    "name": "ipython",
    "version": 3
   },
   "file_extension": ".py",
   "mimetype": "text/x-python",
   "name": "python",
   "nbconvert_exporter": "python",
   "pygments_lexer": "ipython3",
   "version": "3.7.4"
  }
 },
 "nbformat": 4,
 "nbformat_minor": 2
}
