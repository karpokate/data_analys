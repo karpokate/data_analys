{
 "cells": [
  {
   "cell_type": "markdown",
   "metadata": {},
   "source": [
    "# ДЕРЕВА ВИРІШАЛЬНИХ ПРАВИЛ"
   ]
  },
  {
   "cell_type": "markdown",
   "metadata": {},
   "source": [
    "1. Ознайомитися з конспектом лекцій та рекомендованою літературою, а також додатком Б, що містить опис програмного забезпечення для побудови дерев вирішальних правил.\n",
    "2. Сформувати набір даних для обробки та аналізу.\n",
    "3. Використовуючи рекомендоване програмне забезпечення здійснити обробку набору даних з метою побудови дерева\n",
    "вирішальних правил.\n",
    "4. Використати побудоване дерево для прийняття рішень на\n",
    "конкретному прикладі."
   ]
  },
  {
   "cell_type": "code",
   "execution_count": null,
   "metadata": {},
   "outputs": [],
   "source": []
  }
 ],
 "metadata": {
  "kernelspec": {
   "display_name": "Python 3",
   "language": "python",
   "name": "python3"
  },
  "language_info": {
   "codemirror_mode": {
    "name": "ipython",
    "version": 3
   },
   "file_extension": ".py",
   "mimetype": "text/x-python",
   "name": "python",
   "nbconvert_exporter": "python",
   "pygments_lexer": "ipython3",
   "version": "3.7.4"
  }
 },
 "nbformat": 4,
 "nbformat_minor": 2
}
